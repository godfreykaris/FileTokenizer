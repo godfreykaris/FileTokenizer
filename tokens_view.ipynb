{
 "cells": [
  {
   "cell_type": "code",
   "execution_count": 20,
   "id": "fdc8d89a",
   "metadata": {
    "scrolled": true
   },
   "outputs": [
    {
     "name": "stdout",
     "output_type": "stream",
     "text": [
      "$sql = \\SELECT * FROM apple_breeds WHERE id = ?\\\";\"\n",
      "/home/godfreykaris/Documents/CVI/FileTokenizer/test_files/php/edit_apple_breed.php\n",
      "22\n",
      "\n",
      "\n"
     ]
    }
   ],
   "source": [
    "import pandas as pd\n",
    "\n",
    "# Load CSV file into a DataFrame\n",
    "df = pd.read_csv(filepath_or_buffer='/home/godfreykaris/Documents/CVI/FileTokenizer/test_files/php/edit_apple_breed.csv', sep='~')\n",
    "\n",
    "# Display the DataFrame\n",
    "# display(df)\n",
    "\n",
    "for index, row in df.iterrows():\n",
    "    # Print the desired cell value\n",
    "    print(row.iloc[0])\n",
    "    print(row.iloc[1])\n",
    "    print(row.iloc[2])\n",
    "\n",
    "    # Print two empty lines\n",
    "    print(\"\\n\")\n"
   ]
  },
  {
   "cell_type": "code",
   "execution_count": null,
   "id": "fea3e535",
   "metadata": {},
   "outputs": [],
   "source": []
  },
  {
   "cell_type": "code",
   "execution_count": null,
   "id": "bccfbc3d",
   "metadata": {},
   "outputs": [],
   "source": []
  },
  {
   "cell_type": "code",
   "execution_count": null,
   "id": "c23cfe48",
   "metadata": {},
   "outputs": [],
   "source": []
  },
  {
   "cell_type": "code",
   "execution_count": null,
   "id": "092356fa",
   "metadata": {},
   "outputs": [],
   "source": []
  }
 ],
 "metadata": {
  "kernelspec": {
   "display_name": "Python 3 (ipykernel)",
   "language": "python",
   "name": "python3"
  },
  "language_info": {
   "codemirror_mode": {
    "name": "ipython",
    "version": 3
   },
   "file_extension": ".py",
   "mimetype": "text/x-python",
   "name": "python",
   "nbconvert_exporter": "python",
   "pygments_lexer": "ipython3",
   "version": "3.9.12"
  }
 },
 "nbformat": 4,
 "nbformat_minor": 5
}
